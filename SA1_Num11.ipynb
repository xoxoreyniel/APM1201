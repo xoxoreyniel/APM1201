{
  "nbformat": 4,
  "nbformat_minor": 0,
  "metadata": {
    "colab": {
      "provenance": []
    },
    "kernelspec": {
      "name": "python3",
      "display_name": "Python 3"
    },
    "language_info": {
      "name": "python"
    }
  },
  "cells": [
    {
      "cell_type": "markdown",
      "source": [
        "Write a Python program that simulates a handheld calculator. Your program should process input from the Python console representing buttons that are “pushed,” and then output the contents of the screen after each operation is performed. Minimally, your calculator should be able to process the basic arithmetic operations and a reset/clear operation."
      ],
      "metadata": {
        "id": "Y3CNQwPVzoQ-"
      }
    },
    {
      "cell_type": "code",
      "execution_count": 8,
      "metadata": {
        "colab": {
          "base_uri": "https://localhost:8080/"
        },
        "id": "mDTUU7WozjNN",
        "outputId": "580e38dc-440d-40d8-923c-e26ba8b4ad5c"
      },
      "outputs": [
        {
          "output_type": "stream",
          "name": "stdout",
          "text": [
            "Screen: 0\n",
            "Enter operation first (+, -, *, /) then number, or 'clear' to reset, or 'exit' to quit: -60\n",
            "Screen: -60.0\n",
            "Enter operation first (+, -, *, /) then number, or 'clear' to reset, or 'exit' to quit: *150\n",
            "Screen: -9000.0\n",
            "Enter operation first (+, -, *, /) then number, or 'clear' to reset, or 'exit' to quit: /-100\n",
            "Screen: 90.0\n",
            "Enter operation first (+, -, *, /) then number, or 'clear' to reset, or 'exit' to quit: +28\n",
            "Screen: 118.0\n",
            "Enter operation first (+, -, *, /) then number, or 'clear' to reset, or 'exit' to quit: -18\n",
            "Screen: 100.0\n",
            "Enter operation first (+, -, *, /) then number, or 'clear' to reset, or 'exit' to quit: /100\n",
            "Screen: 1.0\n",
            "Enter operation first (+, -, *, /) then number, or 'clear' to reset, or 'exit' to quit: exit\n",
            "Calculator turned off.\n"
          ]
        }
      ],
      "source": [
        "def calculator():\n",
        "    screen = 0\n",
        "    while True:\n",
        "        print(f\"Screen: {screen}\")\n",
        "        user = input(\"Enter operation first (+, -, *, /) then number, or 'clear' to reset, or 'exit' to quit: \")\n",
        "        if user == 'exit':\n",
        "            print(\"Calculator turned off.\")\n",
        "            break\n",
        "        elif user == 'clear':\n",
        "            screen = 0\n",
        "            print(\"Screen cleared.\")\n",
        "        else:\n",
        "            try:\n",
        "                operator = user[0]\n",
        "                num = float(user[1:])\n",
        "                if operator == '+':\n",
        "                    screen += num\n",
        "                elif operator == '-':\n",
        "                    screen -= num\n",
        "                elif operator == '*':\n",
        "                    screen *= num\n",
        "                elif operator == '/':\n",
        "                    if num == 0:\n",
        "                        print(\"Error: Division by zero.\")\n",
        "                    else:\n",
        "                        screen /= num\n",
        "                else:\n",
        "                    print(\"Invalid operation.\")\n",
        "            except (ValueError, IndexError):\n",
        "                print(\"Invalid input. Please enter a valid operation.\")\n",
        "calculator()"
      ]
    }
  ]
}