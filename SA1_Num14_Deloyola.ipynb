{
  "nbformat": 4,
  "nbformat_minor": 0,
  "metadata": {
    "colab": {
      "provenance": []
    },
    "kernelspec": {
      "name": "python3",
      "display_name": "Python 3"
    },
    "language_info": {
      "name": "python"
    }
  },
  "cells": [
    {
      "cell_type": "markdown",
      "source": [
        "Suppose you are given an n-element sequence, S, containing distinct integers that are listed in increasing order. Given a number k, describe a recursive algorithm to find two integers in S that sum to k, if such a pair exists. What is the running time of your algorithm?"
      ],
      "metadata": {
        "id": "W7lrYeQJASum"
      }
    },
    {
      "cell_type": "code",
      "execution_count": 28,
      "metadata": {
        "colab": {
          "base_uri": "https://localhost:8080/"
        },
        "id": "1ztrVWCc_WqS",
        "outputId": "96b2a55f-5cf8-4927-d5ef-7ffb618b4f0e"
      },
      "outputs": [
        {
          "output_type": "stream",
          "name": "stdout",
          "text": [
            "Result: (4, 36)\n",
            "Time taken: 0.000048 seconds\n"
          ]
        }
      ],
      "source": [
        "import time\n",
        "\n",
        "def pair(S, k, start, end):\n",
        "    if start >= end:\n",
        "        return None\n",
        "    current_sum = S[start] + S[end]\n",
        "    if current_sum == k:\n",
        "        return (S[start], S[end])\n",
        "    elif current_sum < k:\n",
        "        return pair(S, k, start + 1, end)\n",
        "    else:\n",
        "        return pair(S, k, start, end - 1)\n",
        "\n",
        "def sum(S, k):\n",
        "    return pair(S, k, 0, len(S) - 1)\n",
        "\n",
        "S = [4, 11, 23, 36, 48]\n",
        "k = 40\n",
        "result = two_sum(S, k)\n",
        "\n",
        "start = time.time()\n",
        "result = sum(S, k)\n",
        "end = time.time()\n",
        "\n",
        "duration = end - start\n",
        "print(\"Result:\", result)\n",
        "print(\"Time taken: {:.6f} seconds\".format(duration))"
      ]
    }
  ]
}